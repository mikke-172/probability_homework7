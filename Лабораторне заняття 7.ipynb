{
 "cells": [
  {
   "cell_type": "markdown",
   "metadata": {},
   "source": [
    "# Лабораторне заняття №7"
   ]
  },
  {
   "cell_type": "markdown",
   "metadata": {},
   "source": [
    "# Перетворення випадкових величин\n",
    "На цьому занятті ми реалізуємо перетворення випадкових величин із розглянутих раніше розподілів, які реалізовані в бібліотеці [SciPy](https://docs.scipy.org/doc/scipy/reference/).\n",
    "Із цього пакету будемо використовувати клас [scipy.stats](https://docs.scipy.org/doc/scipy/reference/stats.html), в якому реалізована велика кількість імовірнісних розподілів і статистичних функцій.\n",
    "\n",
    "Для візуалізації використаємо бібліотеку [Matplotlib](https://matplotlib.org/)."
   ]
  },
  {
   "cell_type": "code",
   "execution_count": 6,
   "metadata": {},
   "outputs": [],
   "source": [
    "import numpy as np\n",
    "import matplotlib.pyplot as plt"
   ]
  },
  {
   "cell_type": "markdown",
   "metadata": {},
   "source": [
    "## 1 Квантильне перетворення"
   ]
  },
  {
   "cell_type": "markdown",
   "metadata": {},
   "source": [
    "Справедливі два твердження про квантильне перетворення:\n",
    "1. Нехай випадкова величина $\\xi$ має неперервну функцію розподілу $F$.\n",
    "Тоді випадкова величина $\\eta = F(\\xi)$ має стандартний рівномірний розподіл:\n",
    "$F(\\xi) \\sim Unif(0, 1)$.\n",
    "2. Нехай $F$ - неперервна функція розподілу,\n",
    "випадкова величина $\\eta$ має стандартний рівномірний розподіл: $\\eta \\sim Unif(0, 1)$.\n",
    "Тоді випадкова величина $\\xi = F^{-1}(\\eta)$ має функцію розподілу $F$."
   ]
  },
  {
   "cell_type": "markdown",
   "metadata": {},
   "source": [
    "### 1.1 Експоненційний розподіл"
   ]
  },
  {
   "cell_type": "markdown",
   "metadata": {},
   "source": [
    "Реалізуйте перше твердження про квантильне перетворення для випадкової величини $\\xi \\sim Exp(1)$ з функцією розподілу $F$:\n",
    "- згенеруйте $n = 10000$ значень випадкової величини $\\xi$;\n",
    "- отримайте $n = 10000$ значень випадкової величини $F(\\xi)$;\n",
    "- намалюйте нормовану гістограму отриманих $n = 10000$ значень випадкової величини $F(\\xi)$;\n",
    "- намалюйте щільність стандартного рівномірного розподілу на тому ж графіку.\n",
    "\n",
    "Порівняйте форму нормованої гістограми та функції щільності.\n",
    "\n",
    "Що відбувається при збільшенні (зменшенні) кількості випадкових значень $n$?"
   ]
  },
  {
   "cell_type": "code",
   "execution_count": 7,
   "metadata": {},
   "outputs": [
    {
     "data": {
      "image/png": "[encoded data removed]",
      "text/plain": [
       "<Figure size 432x288 with 1 Axes>"
      ]
     },
     "metadata": {
      "needs_background": "light"
     },
     "output_type": "display_data"
    }
   ],
   "source": [
    "# Місце для Вашого коду\n",
    "from scipy.stats import expon, uniform\n",
    "xi=expon()\n",
    "eta=uniform()\n",
    "xi_rvs=xi.rvs(10000)\n",
    "f_xi_rvs=xi.cdf(xi_rvs)\n",
    "plt.hist(f_xi_rvs, normed=True)\n",
    "x=np.arange(0, 1.01, 0.01)\n",
    "y=eta.pdf(x)\n",
    "plt.plot(x, y, 'r')\n",
    "plt.show()"
   ]
  },
  {
   "cell_type": "markdown",
   "metadata": {},
   "source": [
    "Реалізуйте друге твердження про квантильне перетворення для випадкової величини $\\xi \\sim Exp(1)$ з функцією розподілу $F$:\n",
    "- згенеруйте $n = 10000$ значень випадкової величини $\\eta \\sim Unif(0, 1)$;\n",
    "- обчисліть функцію обернену до функції розподілу випадкової величини $\\xi$;\n",
    "- отримайте $n = 10000$ значень випадкової величини $F^{-1}(\\eta)$;\n",
    "- намалюйте нормовану гістограму отриманих $n = 10000$ значень випадкової величини $F^{-1}(\\eta)$;\n",
    "- намалюйте щільність випадкової величини $\\xi$ на тому ж графіку.\n",
    "\n",
    "Порівняйте форму нормованої гістограми та функції щільності.\n",
    "\n",
    "Що відбувається при збільшенні (зменшенні) кількості випадкових значень $n$?"
   ]
  },
  {
   "cell_type": "code",
   "execution_count": 8,
   "metadata": {},
   "outputs": [
    {
     "data": {
      "image/png": "[encoded data removed]",
      "text/plain": [
       "<Figure size 432x288 with 1 Axes>"
      ]
     },
     "metadata": {
      "needs_background": "light"
     },
     "output_type": "display_data"
    }
   ],
   "source": [
    "# Місце для Вашого коду\n",
    "#$$F(x)=1-\\exp\\{-x}$$\n",
    "#$$y=1-exp(-x)$$\n",
    "#F^(-1)(y)=x=-log(11-y)\n",
    "\n",
    "xi=expon()\n",
    "eta=uniform()\n",
    "xi_rvs=eta.rvs(10000)\n",
    "f_xi_rvs=-np.log(1-xi_rvs)\n",
    "plt.hist(f_xi_rvs, normed=True, bins='auto')\n",
    "x=np.arange(0, max(f_xi_rvs)+0.01, 0.01)\n",
    "y=xi.pdf(x)\n",
    "plt.plot(x, y, 'r')\n",
    "plt.show()\n"
   ]
  },
  {
   "cell_type": "markdown",
   "metadata": {},
   "source": [
    "### 1.2 Квантиль"
   ]
  },
  {
   "cell_type": "markdown",
   "metadata": {},
   "source": [
    "Нехай $F$ - функція розпділу деякої випадкової величини $\\xi$, $\\alpha \\in [0, 1]$.\n",
    "\n",
    "Квантиль рівня $\\alpha$ - це таке число $x_{\\alpha}$, що\n",
    "$$F \\left(x_{\\alpha}\\right) = \\mathsf{P}\\left(\\xi < x_{\\alpha}\\right) = \\alpha.$$\n",
    "\n",
    "Інший варіант визначення. Нехай $Q(\\alpha)$ - це квантиль рівня $\\alpha$. Тоді\n",
    "$$Q(\\alpha) = \\inf \\left\\{ x \\in \\mathbb{R} \\, \\colon \\, \\alpha < F(x) \\right\\}.$$\n",
    "\n",
    "Якщо $F$ - неперервна та строго зростає, то\n",
    "$$Q = F^{-1}.$$"
   ]
  },
  {
   "cell_type": "markdown",
   "metadata": {},
   "source": [
    "Для розподілів із класу **scipy.stats** функція квантилю реалізована методом **ppf**."
   ]
  },
  {
   "cell_type": "markdown",
   "metadata": {},
   "source": [
    "Наприклад, для експоненційного розподілу маємо (детальна інформація в [документації](https://docs.scipy.org/doc/scipy/reference/generated/scipy.stats.expon.html)):"
   ]
  },
  {
   "cell_type": "code",
   "execution_count": 9,
   "metadata": {},
   "outputs": [
    {
     "name": "stdout",
     "output_type": "stream",
     "text": [
      "[0.         0.10536052 0.22314355 0.35667494 0.51082562 0.69314718\n",
      " 0.91629073 1.2039728  1.60943791 2.30258509        inf]\n",
      "[0.  0.1 0.2 0.3 0.4 0.5 0.6 0.7 0.8 0.9 1. ]\n"
     ]
    }
   ],
   "source": [
    "from scipy.stats import expon\n",
    "\n",
    "q = np.arange(0, 1.1, 0.1)\n",
    "f_q = expon.ppf(q, loc=0, scale=1)\n",
    "print(f_q)\n",
    "\n",
    "qq = expon.cdf(f_q, loc=0, scale=1)\n",
    "print(qq)"
   ]
  },
  {
   "cell_type": "markdown",
   "metadata": {},
   "source": [
    "Для випадкової величини $\\xi \\sim Exp(1)$ застосуйте метод **ppf** до згенерованих раніше $n = 10000$ значень випадкової величини $\\eta \\sim Unif(0, 1)$.\n",
    "Порівняйте ці значення з отриманими раніше $n = 10000$ значеннями випадкової величини $F^{-1}(\\eta)$ за допомогою оберненої функції розподілу, яку Ви обчислювали.\n",
    "\n",
    "**Зауваження.** В прикладі нижче:\n",
    "- `xi` - це випадкова величина зі стандартного експоненційного розподілу ($\\lambda = 1$);\n",
    "- `eta_rvs` - $10000$ випадкових значень зі стандартного рівномірного розподілу;\n",
    "- `f_eta_rvs` - значення оберненої до функції розподілу стандартного експоненційного розподілу в точках `eta_rvs`."
   ]
  },
  {
   "cell_type": "code",
   "execution_count": 10,
   "metadata": {},
   "outputs": [
    {
     "ename": "NameError",
     "evalue": "name 'f_eta_rvs' is not defined",
     "output_type": "error",
     "traceback": [
      "\u001b[1;31m---------------------------------------------------------------------------\u001b[0m",
      "\u001b[1;31mNameError\u001b[0m                                 Traceback (most recent call last)",
      "\u001b[1;32m<ipython-input-10-f28e7ab86f7d>\u001b[0m in \u001b[0;36m<module>\u001b[1;34m\u001b[0m\n\u001b[1;32m----> 1\u001b[1;33m \u001b[0mprint\u001b[0m\u001b[1;33m(\u001b[0m\u001b[1;34m\"Number of different values = {}\"\u001b[0m\u001b[1;33m.\u001b[0m\u001b[0mformat\u001b[0m\u001b[1;33m(\u001b[0m\u001b[0msum\u001b[0m\u001b[1;33m(\u001b[0m\u001b[0mf_eta_rvs\u001b[0m \u001b[1;33m!=\u001b[0m \u001b[0mxi\u001b[0m\u001b[1;33m.\u001b[0m\u001b[0mppf\u001b[0m\u001b[1;33m(\u001b[0m\u001b[0meta_rvs\u001b[0m\u001b[1;33m)\u001b[0m\u001b[1;33m)\u001b[0m\u001b[1;33m)\u001b[0m\u001b[1;33m)\u001b[0m\u001b[1;33m\u001b[0m\u001b[1;33m\u001b[0m\u001b[0m\n\u001b[0m\u001b[0;32m      2\u001b[0m \u001b[0mprint\u001b[0m\u001b[1;33m(\u001b[0m\u001b[1;34m\"Number of values that differ more than 10^{} = {}\"\u001b[0m\u001b[1;33m.\u001b[0m\u001b[0mformat\u001b[0m\u001b[1;33m(\u001b[0m\u001b[1;34m\"{-10}\"\u001b[0m\u001b[1;33m,\u001b[0m \u001b[0msum\u001b[0m\u001b[1;33m(\u001b[0m\u001b[0mf_eta_rvs\u001b[0m \u001b[1;33m-\u001b[0m \u001b[0mxi\u001b[0m\u001b[1;33m.\u001b[0m\u001b[0mppf\u001b[0m\u001b[1;33m(\u001b[0m\u001b[0meta_rvs\u001b[0m\u001b[1;33m)\u001b[0m \u001b[1;33m>\u001b[0m \u001b[1;36m10\u001b[0m\u001b[1;33m**\u001b[0m\u001b[1;33m(\u001b[0m\u001b[1;33m-\u001b[0m\u001b[1;36m10\u001b[0m\u001b[1;33m)\u001b[0m\u001b[1;33m)\u001b[0m\u001b[1;33m)\u001b[0m\u001b[1;33m)\u001b[0m\u001b[1;33m\u001b[0m\u001b[1;33m\u001b[0m\u001b[0m\n",
      "\u001b[1;31mNameError\u001b[0m: name 'f_eta_rvs' is not defined"
     ]
    }
   ],
   "source": [
    "print(\"Number of different values = {}\".format(sum(f_eta_rvs != xi.ppf(eta_rvs))))\n",
    "print(\"Number of values that differ more than 10^{} = {}\".format(\"{-10}\", sum(f_eta_rvs - xi.ppf(eta_rvs) > 10**(-10))))"
   ]
  },
  {
   "cell_type": "code",
   "execution_count": 11,
   "metadata": {},
   "outputs": [
    {
     "data": {
      "image/png": "[encoded data removed]",
      "text/plain": [
       "<Figure size 432x288 with 1 Axes>"
      ]
     },
     "metadata": {
      "needs_background": "light"
     },
     "output_type": "display_data"
    }
   ],
   "source": [
    "# Місце для Вашого коду\n",
    "xi=expon()\n",
    "eta=uniform()\n",
    "xi_rvs=eta.rvs(10000)\n",
    "f_xi_rvs=xi.ppf(xi_rvs)\n",
    "plt.hist(f_xi_rvs, normed=True, bins='auto')\n",
    "x=np.arange(0, max(f_xi_rvs)+0.01, 0.01)\n",
    "y=xi.pdf(x)\n",
    "plt.plot(x, y, 'r')\n",
    "plt.show()\n"
   ]
  },
  {
   "cell_type": "markdown",
   "metadata": {},
   "source": [
    "Реалізуйте друге твердження про квантильне перетворення для випадкової величини $\\xi \\sim Exp(1)$ з використанням вбудованого методу квантильної функції:\n",
    "- візьміть згенеровані раніше $n = 10000$ значень випадкової величини $\\eta \\sim Unif(0, 1)$;\n",
    "- отримайте $n = 10000$ значень випадкової величини $F^{-1}(\\eta)$ за допомогою методу **ppf**;\n",
    "- намалюйте нормовану гістограму отриманих $n = 10000$ значень випадкової величини $F^{-1}(\\eta)$;\n",
    "- намалюйте щільність випадкової величини $\\xi$ на тому ж графіку.\n",
    "\n",
    "Порівняйте даний графік з отриманим раніше."
   ]
  },
  {
   "cell_type": "code",
   "execution_count": 12,
   "metadata": {},
   "outputs": [],
   "source": [
    "# Місце для Вашого коду\n",
    "\n"
   ]
  },
  {
   "cell_type": "markdown",
   "metadata": {},
   "source": [
    "## 2 Модуль від випадкової величини"
   ]
  },
  {
   "cell_type": "markdown",
   "metadata": {},
   "source": [
    "### 2.1 Нормальний розподіл"
   ]
  },
  {
   "cell_type": "markdown",
   "metadata": {},
   "source": [
    "Розглянемо випадкову величину $\\xi$ зі стандартного нормального розподілу.\n",
    "Тобто $\\xi \\sim N(0, 1)$.\n",
    "\n",
    "1. Згенеруйте $n = 10000$ значень випадкової величини $\\xi$;\n",
    "2. Реалізуйте 2 сабплоти в одному рядку;\n",
    "3. На першому сабплоті намалюйте:\n",
    "   - нормовану гістограму згенерованих $n = 10000$ значень випадкової величини $\\xi$;\n",
    "   - функцію щільності випадкової величини $\\xi$;\n",
    "4. Отримайте $n = 10000$ значень випадкової величини $|\\xi|$ (застосуйте функцію модуль до згенерованих $n = 10000$ значень випадкової величини $\\xi$);\n",
    "5. На другому сабплоті намалюйте:\n",
    "   - нормовану гістограму отриманих $n = 10000$ значень випадкової величини $|\\xi|$;\n",
    "   - функцію щільності випадкової величини $\\xi$;\n",
    "   - функцію щільності випадкової величини $|\\xi|$."
   ]
  },
  {
   "cell_type": "code",
   "execution_count": 19,
   "metadata": {},
   "outputs": [
    {
     "data": {
      "image/png": "[encoded data removed]",
      "text/plain": [
       "<Figure size 1440x432 with 2 Axes>"
      ]
     },
     "metadata": {
      "needs_background": "light"
     },
     "output_type": "display_data"
    }
   ],
   "source": [
    "# Місце для Вашого коду\n",
    "from scipy.stats import norm\n",
    "xi=norm()\n",
    "#eta=uniform()\n",
    "\n",
    "\n",
    "\n",
    "x=np.arange(-4, 4+0.01, 0.01)\n",
    "y=xi.pdf(x)\n",
    "rvs=xi.rvs(10000)\n",
    "fig, axs=plt.subplots(1, 2, figsize=(20, 6))\n",
    "axs[0].hist(rvs, normed=True, bins='auto')#axs[0].hist(rvs, dencity=True, bins='auto')\n",
    "axs[0].plot(x, y, 'r')\n",
    "f_rvs=np.abs(rvs)\n",
    "def f(x):\n",
    "    return[0 if el<0 else 2*xi.pdf(el) for el in x]\n",
    "axs[1].hist(f_rvs, normed=True, bins='auto')#axs[0].hist(rvs, dencity=True, bins='auto')\n",
    "axs[1].plot(x, y, 'r')\n",
    "axs[1].plot(x, f(x), 'g')\n",
    "plt.show()"
   ]
  },
  {
   "cell_type": "code",
   "execution_count": null,
   "metadata": {},
   "outputs": [],
   "source": []
  },
  {
   "cell_type": "raw",
   "metadata": {},
   "source": [
    "f_xi_rvs=np.abs(xi_rvs)\n",
    "plt.hist(f_xi_rvs, normed=True, bins='auto')\n",
    "def f(x):\n",
    "    return[0 if el<0 else 2*xi.pdf(el) for el in x]\n",
    "plt.plot(x, y, 'g')\n",
    "plt.plot(x, f(x), 'r')\n",
    "\n",
    "plt.show()"
   ]
  },
  {
   "cell_type": "markdown",
   "metadata": {},
   "source": [
    "### 2.2 Рівномірний розподіл"
   ]
  },
  {
   "cell_type": "code",
   "execution_count": null,
   "metadata": {},
   "outputs": [],
   "source": []
  },
  {
   "cell_type": "markdown",
   "metadata": {},
   "source": [
    "Розглянемо випадкову величину $\\xi$ з рівномірного розподілу на $[-1, 4]$.\n",
    "Тобто $\\xi \\sim Unif(-1, 4)$.\n",
    "\n",
    "1. Згенеруйте $n = 10000$ значень випадкової величини $\\xi$;\n",
    "2. Реалізуйте 2 сабплоти в одному рядку;\n",
    "3. На першому сабплоті намалюйте:\n",
    "   - нормовану гістограму згенерованих $n = 10000$ значень випадкової величини $\\xi$;\n",
    "   - функцію щільності випадкової величини $\\xi$;\n",
    "4. Отримайте $n = 10000$ значень випадкової величини $|\\xi|$ (застосуйте функцію модуль до згенерованих $n = 10000$ значень випадкової величини $\\xi$);\n",
    "5. На другому сабплоті намалюйте:\n",
    "   - нормовану гістограму отриманих $n = 10000$ значень випадкової величини $|\\xi|$;\n",
    "   - функцію щільності випадкової величини $\\xi$;\n",
    "   - функцію щільності випадкової величини $|\\xi|$."
   ]
  },
  {
   "cell_type": "code",
   "execution_count": 22,
   "metadata": {},
   "outputs": [
    {
     "data": {
      "image/png": "[encoded data removed]",
      "text/plain": [
       "<Figure size 1440x432 with 2 Axes>"
      ]
     },
     "metadata": {
      "needs_background": "light"
     },
     "output_type": "display_data"
    }
   ],
   "source": [
    "xi=uniform(loc=-1, scale=5)\n",
    "x=np.arange(0, 4+0.01, 0.01)\n",
    "y=xi.pdf(x)\n",
    "rvs=xi.rvs(10000)\n",
    "fig, axs=plt.subplots(1, 2, figsize=(20, 6))\n",
    "axs[0].hist(rvs, normed=True, bins='auto')#axs[0].hist(rvs, dencity=True, bins='auto')\n",
    "axs[0].plot(x, y, 'r')\n",
    "f_rvs=np.abs(rvs)\n",
    "def f(x):\n",
    "    return[0 if el<0 else 2*xi.pdf(el)  if el<1 else xi.pdf(el) for el in x]\n",
    "axs[1].hist(f_rvs, normed=True, bins=8)#axs[0].hist(rvs, dencity=True, bins='auto')\n",
    "axs[1].plot(x, y, 'r')\n",
    "axs[1].plot(x, f(x), 'g--')\n",
    "plt.show()"
   ]
  },
  {
   "cell_type": "markdown",
   "metadata": {},
   "source": [
    "# Місце для Вашого коду\n",
    "\n",
    "# Місце для Вашого коду\n",
    "xi=uniform(loc=-1, scale=5)\n",
    "#eta=uniform()\n",
    "\n",
    "\n",
    "\n",
    "x=np.arange(-5, 5+0.01, 0.01)\n",
    "y=xi.pdf(x)\n",
    "xi_rvs=xi.rvs(10000)\n",
    "f_xi_rvs=np.abs(xi_rvs)\n",
    "plt.hist(f_xi_rvs, normed=True, bins='auto')\n",
    "\n",
    "#plt.plot(x, y, 'g')\n",
    "plt.plot(x, f(x), 'r')\n",
    "\n",
    "plt.show()\n"
   ]
  },
  {
   "cell_type": "markdown",
   "metadata": {},
   "source": [
    "### 2.3 Експоненційний розподіл"
   ]
  },
  {
   "cell_type": "markdown",
   "metadata": {},
   "source": [
    "Розглянемо випадкову величину $\\xi$ зі стандартного експоненційного розподілу.\n",
    "Тобто $\\xi \\sim Exp(1)$.\n",
    "\n",
    "1. Згенеруйте $n = 10000$ значень випадкової величини $\\xi$;\n",
    "2. Реалізуйте 2 сабплоти в одному рядку;\n",
    "3. На першому сабплоті намалюйте:\n",
    "   - нормовану гістограму згенерованих $n = 10000$ значень випадкової величини $\\xi$;\n",
    "   - функцію щільності випадкової величини $\\xi$;\n",
    "4. Отримайте $n = 10000$ значень випадкової величини $|\\xi - 1|$ (застосуйте функцію модуль до згенерованих $n = 10000$ значень випадкової величини $\\xi$);\n",
    "5. На другому сабплоті намалюйте:\n",
    "   - нормовану гістограму отриманих $n = 10000$ значень випадкової величини $|\\xi - 1|$;\n",
    "   - функцію щільності випадкової величини $\\xi$;\n",
    "   - функцію щільності випадкової величини $|\\xi - 1|$."
   ]
  },
  {
   "cell_type": "code",
   "execution_count": 26,
   "metadata": {
    "scrolled": true
   },
   "outputs": [
    {
     "data": {
      "image/png": "[encoded data removed]",
      "text/plain": [
       "<Figure size 1440x432 with 2 Axes>"
      ]
     },
     "metadata": {
      "needs_background": "light"
     },
     "output_type": "display_data"
    }
   ],
   "source": [
    "# Місце для Вашого коду\n",
    "xi=expon()\n",
    "x=np.arange(0, 4+0.01, 0.01)\n",
    "y=xi.pdf(x)\n",
    "rvs=xi.rvs(10000)\n",
    "fig, axs=plt.subplots(1, 2, figsize=(20, 6))\n",
    "axs[0].hist(rvs, normed=True, bins='auto')#axs[0].hist(rvs, dencity=True, bins='auto')\n",
    "axs[0].plot(x, y, 'r')\n",
    "f_rvs=np.abs(rvs-1)\n",
    "def f(x):\n",
    "    return[0 if el<0 else expon.pdf(el , loc=-1)+expon.pdf(-el , loc=-1) for el in x ]\n",
    "axs[1].hist(f_rvs, normed=True, bins='auto')#axs[0].hist(rvs, dencity=True, bins='auto')\n",
    "axs[1].plot(x, y, 'r')\n",
    "axs[1].plot(x, f(x), 'g--')\n",
    "plt.show()\n"
   ]
  },
  {
   "cell_type": "markdown",
   "metadata": {},
   "source": [
    "## 3 Квадрат від випадкової величини"
   ]
  },
  {
   "cell_type": "markdown",
   "metadata": {},
   "source": [
    "### 3.1 Рівномірний розподіл"
   ]
  },
  {
   "cell_type": "markdown",
   "metadata": {},
   "source": [
    "Розглянемо випадкову величину $\\xi$ зі стандартного рівномірного розподілу.\n",
    "Тобто $\\xi \\sim Unif(0, 1)$.\n",
    "\n",
    "1. Згенеруйте $n = 10000$ значень випадкової величини $\\xi$;\n",
    "2. Реалізуйте 2 сабплоти в одному рядку;\n",
    "3. На першому сабплоті намалюйте:\n",
    "   - нормовану гістограму згенерованих $n = 10000$ значень випадкової величини $\\xi$;\n",
    "   - функцію щільності випадкової величини $\\xi$;\n",
    "4. Отримайте $n = 10000$ значень випадкової величини $\\xi^2$ (застосуйте функцію піднесення до квадрата до згенерованих $n = 10000$ значень випадкової величини $\\xi$);\n",
    "5. На другому сабплоті намалюйте:\n",
    "   - нормовану гістограму отриманих $n = 10000$ значень випадкової величини $\\xi^2$;\n",
    "   - функцію щільності випадкової величини $\\xi$;\n",
    "   - функцію щільності випадкової величини $\\xi^2$."
   ]
  },
  {
   "cell_type": "markdown",
   "metadata": {},
   "source": [
    "$$P(\\xi \\in A)=\\int_{A}^{}f(x)dx$$\n",
    "$$F_{\\xi^2}(x)=P(\\xi^2<x)=P(<-\\sqrt{x}<\\xi<\\sqrt{x})=\\int_{-\\sqrt{x}}^{\\sqrt{x}}f(x)dx=\\int_{0}^{\\sqrt{x}}I[0,1](x)dx=I[0,1](x)$$"
   ]
  },
  {
   "cell_type": "code",
   "execution_count": 34,
   "metadata": {},
   "outputs": [
    {
     "name": "stderr",
     "output_type": "stream",
     "text": [
      "C:\\Users\\yesval\\Anaconda3\\lib\\site-packages\\ipykernel_launcher.py:11: RuntimeWarning: divide by zero encountered in double_scalars\n",
      "  # This is added back by InteractiveShellApp.init_path()\n"
     ]
    },
    {
     "data": {
      "image/png": "[encoded data removed]",
      "text/plain": [
       "<Figure size 1440x432 with 2 Axes>"
      ]
     },
     "metadata": {
      "needs_background": "light"
     },
     "output_type": "display_data"
    }
   ],
   "source": [
    "# Місце для Вашого коду\n",
    "xi=uniform(loc=0, scale=1)\n",
    "x=np.arange(0, 1+0.01, 0.01)\n",
    "y=xi.pdf(x)\n",
    "rvs=xi.rvs(10000)\n",
    "fig, axs=plt.subplots(1, 2, figsize=(20, 6))\n",
    "axs[0].hist(rvs, normed=True, bins='auto')#axs[0].hist(rvs, dencity=True, bins='auto')\n",
    "axs[0].plot(x, y, 'r')\n",
    "f_rvs=(rvs)**2\n",
    "def f(x):\n",
    "    return[0 if el<0 else 1/(2*np.sqrt(el))  if el<1 else 0 for el in x]\n",
    "axs[1].hist(f_rvs, normed=True, bins='auto')#axs[0].hist(rvs, dencity=True, bins='auto')\n",
    "axs[1].plot(x, y, 'r')\n",
    "axs[1].plot(x, f(x), 'g--')\n",
    "plt.show()\n"
   ]
  },
  {
   "cell_type": "markdown",
   "metadata": {},
   "source": [
    "### 3.2 Нормальний розподіл"
   ]
  },
  {
   "cell_type": "markdown",
   "metadata": {},
   "source": [
    "Розглянемо випадкову величину $\\xi$ зі стандартного нормального розподілу.\n",
    "Тобто $\\xi \\sim N(0, 1)$.\n",
    "\n",
    "1. Згенеруйте $n = 10000$ значень випадкової величини $\\xi$;\n",
    "2. Реалізуйте 2 сабплоти в одному рядку;\n",
    "3. На першому сабплоті намалюйте:\n",
    "   - нормовану гістограму згенерованих $n = 10000$ значень випадкової величини $\\xi$;\n",
    "   - функцію щільності випадкової величини $\\xi$;\n",
    "4. Отримайте $n = 10000$ значень випадкової величини $\\xi^2$ (застосуйте функцію піднесення до квадрата до згенерованих $n = 10000$ значень випадкової величини $\\xi$);\n",
    "5. На другому сабплоті намалюйте:\n",
    "   - нормовану гістограму отриманих $n = 10000$ значень випадкової величини $\\xi^2$;\n",
    "   - функцію щільності випадкової величини $\\xi$;\n",
    "   - функцію щільності випадкової величини $\\xi^2$;\n",
    "   - функцію щільності випадкової величини $\\eta \\sim \\chi^2_1$;\n",
    "   - функцію щільності випадкової величини $\\eta \\sim \\Gamma(1/2, 1/2)$."
   ]
  },
  {
   "cell_type": "code",
   "execution_count": null,
   "metadata": {},
   "outputs": [],
   "source": [
    "# Місце для Вашого коду\n",
    "\n"
   ]
  },
  {
   "cell_type": "markdown",
   "metadata": {},
   "source": [
    "## 4 Відсутність пам'яті"
   ]
  },
  {
   "cell_type": "markdown",
   "metadata": {},
   "source": [
    "Розглянемо випадкову величину $\\xi$ зі стандартного експоненційного розподілу.\n",
    "Тобто $\\xi \\sim Exp(1)$.\n",
    "\n",
    "1. Згенеруйте $n = 10000$ значень випадкової величини $\\xi$;\n",
    "2. Реалізуйте 2 сабплоти в одному рядку;\n",
    "3. На першому сабплоті намалюйте:\n",
    "   - нормовану гістограму згенерованих $n = 10000$ значень випадкової величини $\\xi$;\n",
    "   - функцію щільності випадкової величини $\\xi$;\n",
    "4. Отримайте $n = 10000$ значень випадкової величини $\\eta = (\\xi - 1) I_{(\\xi - 1) \\geq 0}$;\n",
    "5. На другому сабплоті намалюйте:\n",
    "   - нормовану гістограму отриманих значень випадкової величини $\\eta$;\n",
    "   - функцію щільності випадкової величини $\\xi$."
   ]
  },
  {
   "cell_type": "code",
   "execution_count": null,
   "metadata": {},
   "outputs": [],
   "source": [
    "# Місце для Вашого коду\n",
    "\n"
   ]
  },
  {
   "cell_type": "markdown",
   "metadata": {
    "collapsed": true
   },
   "source": [
    "## 5 Одиничний квадрат"
   ]
  },
  {
   "cell_type": "markdown",
   "metadata": {},
   "source": [
    "Реалізуйте вадкову величину рівномірно розподілену на одиничному квадраті.\n",
    "Тобто $\\xi = (x, y), \\quad x, y \\sim Unif(0, 1)$."
   ]
  },
  {
   "cell_type": "code",
   "execution_count": null,
   "metadata": {},
   "outputs": [],
   "source": [
    "# Місце для Вашого коду\n",
    "\n"
   ]
  },
  {
   "cell_type": "markdown",
   "metadata": {},
   "source": [
    "Знайдіть функцію щільності випадкової величини $\\xi_1 = x + y$.\n",
    "Намалюйте її разом із нормованою гістограмою $n = 100000$ значень випадкової величини $\\xi_1$,\n",
    "отриманою перетвореннями випадкових величин $x, y$."
   ]
  },
  {
   "cell_type": "code",
   "execution_count": null,
   "metadata": {},
   "outputs": [],
   "source": [
    "# Місце для Вашого коду\n",
    "\n"
   ]
  },
  {
   "cell_type": "markdown",
   "metadata": {},
   "source": [
    "Знайдіть функцію щільності випадкової величини $\\xi_2 = xy$.\n",
    "Намалюйте її разом із нормованою гістограмою $n = 100000$ значень випадкової величини $\\xi_2$,\n",
    "отриманою перетвореннями випадкових величин $x, y$."
   ]
  },
  {
   "cell_type": "code",
   "execution_count": null,
   "metadata": {},
   "outputs": [],
   "source": [
    "# Місце для Вашого коду\n",
    "\n"
   ]
  },
  {
   "cell_type": "markdown",
   "metadata": {},
   "source": [
    "Знайдіть функцію щільності випадкової величини $\\xi_3 = \\min (x, y)$.\n",
    "Намалюйте її разом із нормованою гістограмою $n = 100000$ значень випадкової величини $\\xi_3$,\n",
    "отриманою перетвореннями випадкових величин $x, y$."
   ]
  },
  {
   "cell_type": "code",
   "execution_count": null,
   "metadata": {},
   "outputs": [],
   "source": [
    "# Місце для Вашого коду\n",
    "\n"
   ]
  },
  {
   "cell_type": "code",
   "execution_count": null,
   "metadata": {},
   "outputs": [],
   "source": []
  },
  {
   "cell_type": "code",
   "execution_count": null,
   "metadata": {},
   "outputs": [],
   "source": []
  }
 ],
 "metadata": {
  "kernelspec": {
   "display_name": "Python 3",
   "language": "python",
   "name": "python3"
  },
  "language_info": {
   "codemirror_mode": {
    "name": "ipython",
    "version": 3
   },
   "file_extension": ".py",
   "mimetype": "text/x-python",
   "name": "python",
   "nbconvert_exporter": "python",
   "pygments_lexer": "ipython3",
   "version": "3.7.1"
  }
 },
 "nbformat": 4,
 "nbformat_minor": 1
}
